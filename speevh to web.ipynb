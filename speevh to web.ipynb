{
 "cells": [
  {
   "cell_type": "code",
   "execution_count": 17,
   "id": "9bd1edd2-f9c3-47f5-950f-543a6d6636df",
   "metadata": {},
   "outputs": [],
   "source": [
    "import speech_recognition\n",
    "import pyttsx3\n",
    "import webbrowser"
   ]
  },
  {
   "cell_type": "code",
   "execution_count": 18,
   "id": "944233d0-963c-4b10-8ba2-38504ddeeda6",
   "metadata": {},
   "outputs": [
    {
     "name": "stdout",
     "output_type": "stream",
     "text": [
      "Please say something to open.....\n",
      "Hearing....\n",
      "you asked to open : www.youtube.com\n"
     ]
    }
   ],
   "source": [
    "if __name__ == \"__main__\":\n",
    "    \n",
    "    path = \"C:/program Files (x86)/Microsoft.edge/Application.msedge.exe %s\"\n",
    "    \n",
    "    sr = speech_recognition.Recognizer()\n",
    "    \n",
    "    with speech_recognition.Microphone() as source:\n",
    "        \n",
    "        sr.adjust_for_ambient_noise(source)\n",
    "        \n",
    "        print(\"Please say something to open.....\")\n",
    "        \n",
    "        audio = sr.listen(source)\n",
    "        \n",
    "        print(\"Hearing....\")\n",
    "        \n",
    "        try:\n",
    "            destination = sr.recognize_google(audio)\n",
    "            \n",
    "            print(\"you asked to open : \"+destination)\n",
    "\n",
    "            webbrowser.get(path).open(destination)\n",
    "\n",
    "        except Exception as e:\n",
    "            \n",
    "               print(\"error: \" + str(e))"
   ]
  },
  {
   "cell_type": "code",
   "execution_count": 16,
   "id": "1dff41ae-2da9-4f00-9bb0-8dd7d3803b5a",
   "metadata": {},
   "outputs": [
    {
     "name": "stdout",
     "output_type": "stream",
     "text": [
      "Please say something to open.....\n",
      "Hearing....\n",
      "you asked to open : www.youtube.com\n",
      "Invalid URL.\n"
     ]
    }
   ],
   "source": [
    "\n",
    "# import speech_recognition\n",
    "# import webbrowser\n",
    "\n",
    "# if __name__ == \"__main__\":\n",
    "    \n",
    "#     path = \"C:/Program Files (x86)/Microsoft Edge/Application/msedge.exe %s\"\n",
    "    \n",
    "#     sr = speech_recognition.Recognizer()\n",
    "    \n",
    "#     with speech_recognition.Microphone() as source:\n",
    "        \n",
    "#         sr.adjust_for_ambient_noise(source)\n",
    "        \n",
    "#         print(\"Please say something to open.....\")\n",
    "        \n",
    "#         audio = sr.listen(source)\n",
    "        \n",
    "#         print(\"Hearing....\")\n",
    "        \n",
    "#         try:\n",
    "#             destination = sr.recognize_google(audio)\n",
    "            \n",
    "#             print(\"you asked to open : \" + destination)\n",
    "            \n",
    "#             if destination.startswith('http://') or destination.startswith('https://'):\n",
    "#                 webbrowser.open(destination)\n",
    "#             else:\n",
    "#                 print(\"Invalid URL.\")\n",
    "            \n",
    "#         except Exception as e:\n",
    "#             print(\"error: \" + str(e))\n"
   ]
  },
  {
   "cell_type": "code",
   "execution_count": null,
   "id": "f0eb6cf7-2b88-4f07-b133-537c0b5be34a",
   "metadata": {},
   "outputs": [],
   "source": []
  },
  {
   "cell_type": "code",
   "execution_count": null,
   "id": "66d1e91f-344d-4e77-b8f5-625dcc406c58",
   "metadata": {},
   "outputs": [],
   "source": []
  },
  {
   "cell_type": "code",
   "execution_count": null,
   "id": "996f26e6-a788-4a04-9edf-f88b9df5ca50",
   "metadata": {},
   "outputs": [],
   "source": []
  }
 ],
 "metadata": {
  "kernelspec": {
   "display_name": "Python 3 (ipykernel)",
   "language": "python",
   "name": "python3"
  },
  "language_info": {
   "codemirror_mode": {
    "name": "ipython",
    "version": 3
   },
   "file_extension": ".py",
   "mimetype": "text/x-python",
   "name": "python",
   "nbconvert_exporter": "python",
   "pygments_lexer": "ipython3",
   "version": "3.11.7"
  }
 },
 "nbformat": 4,
 "nbformat_minor": 5
}
